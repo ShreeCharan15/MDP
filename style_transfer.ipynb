{
  "cells": [
    {
      "cell_type": "code",
      "execution_count": null,
      "metadata": {},
      "outputs": [],
      "source": [
        "import tensorflow as tf\n",
        "import numpy as np\n",
        "import PIL\n",
        "import matplotlib.pyplot as plt"
      ]
    },
    {
      "cell_type": "code",
      "execution_count": null,
      "metadata": {
        "id": "GM6VEGrGLh62"
      },
      "outputs": [],
      "source": [
        "def tensor_to_image(tensor):\n",
        "  tensor = tensor*255\n",
        "  tensor = np.array(tensor, dtype=np.uint8)\n",
        "  if np.ndim(tensor)>3:\n",
        "    assert tensor.shape[0] == 1\n",
        "    tensor = tensor[0]\n",
        "  return PIL.Image.fromarray(tensor)"
      ]
    },
    {
      "cell_type": "code",
      "execution_count": null,
      "metadata": {
        "id": "3TLljcwv5qZs"
      },
      "outputs": [],
      "source": [
        "def load_images(path_to_content,path_to_style):\n",
        "  contentimg = tf.io.read_file(path_to_content)\n",
        "  contentimg = tf.image.decode_image(contentimg, channels=3)\n",
        "  contentimg = tf.image.convert_image_dtype(contentimg, tf.float32)\n",
        "\n",
        "  styleimg = tf.io.read_file(path_to_style)\n",
        "  styleimg = tf.image.decode_image(styleimg, channels=3)\n",
        "  styleimg = tf.image.convert_image_dtype(styleimg, tf.float32)\n",
        "\n",
        "  contentshape = tf.cast(tf.shape(contentimg)[:-1], tf.float32)\n",
        "  styleshape = tf.cast(tf.shape(contentimg)[:-1], tf.float32)\n",
        "  \n",
        "  max_dim = 256\n",
        "  style_long_dim = max(styleshape)\n",
        "  style_scale = max_dim / style_long_dim\n",
        "\n",
        "  new_shape = tf.cast(styleshape * style_scale, tf.int32)\n",
        "\n",
        "  styleimg = tf.image.resize(styleimg, new_shape)\n",
        "  styleimg = styleimg[tf.newaxis, :]\n",
        "\n",
        "\n",
        "  max_dim = 720\n",
        "  content_long_dim = max(contentshape)\n",
        "  content_scale = max_dim / content_long_dim\n",
        "\n",
        "  new_shape = tf.cast(contentshape * content_scale, tf.int32)\n",
        "\n",
        "  contentimg = tf.image.resize(contentimg, new_shape)\n",
        "  contentimg = contentimg[tf.newaxis, :]\n",
        "  return contentimg,styleimg"
      ]
    },
    {
      "cell_type": "markdown",
      "metadata": {
        "id": "2yAlRzJZrWM3"
      },
      "source": [
        "Create a simple function to display an image:"
      ]
    },
    {
      "cell_type": "code",
      "execution_count": null,
      "metadata": {
        "id": "cBX-eNT8PAK_"
      },
      "outputs": [],
      "source": [
        "def imshow(image, title=None):\n",
        "  if len(image.shape) > 3:\n",
        "    image = tf.squeeze(image, axis=0)\n",
        "\n",
        "  plt.imshow(image)\n",
        "  if title:\n",
        "    plt.title(title)"
      ]
    },
    {
      "cell_type": "code",
      "execution_count": null,
      "metadata": {
        "colab": {
          "base_uri": "https://localhost:8080/",
          "height": 315
        },
        "id": "_UWQmeEaiKkP",
        "outputId": "0439cd4e-babc-4fa5-df51-7b825251d4e2"
      },
      "outputs": [],
      "source": [
        "content_image,style_image = load_images('rads.jpeg',\"starrynight.jpg\")\n",
        "\n",
        "plt.subplot(1, 2, 1)\n",
        "imshow(content_image, 'Content Image')\n",
        "\n",
        "plt.subplot(1, 2, 2)\n",
        "imshow(style_image, 'Style Image')"
      ]
    },
    {
      "cell_type": "code",
      "execution_count": null,
      "metadata": {
        "id": "ArfX_6iA0WAX"
      },
      "outputs": [],
      "source": [
        "content_layers = ['block5_conv2'] \n",
        "\n",
        "style_layers = ['block1_conv1',\n",
        "                'block2_conv1',\n",
        "                'block3_conv1', \n",
        "                'block4_conv1', \n",
        "                'block5_conv1']\n",
        "\n",
        "num_content_layers = len(content_layers)\n",
        "num_style_layers = len(style_layers)"
      ]
    },
    {
      "cell_type": "code",
      "execution_count": null,
      "metadata": {
        "id": "nfec6MuMAbPx"
      },
      "outputs": [],
      "source": [
        "def vgg_layers(layer_names,shape):\n",
        "  \"\"\" Creates a VGG model that returns a list of intermediate output values.\"\"\"\n",
        "  sh=(shape[1],shape[2],shape[3])\n",
        "  print(sh)\n",
        "  vgg = tf.keras.applications.VGG19(include_top=False, weights='imagenet')\n",
        "  vgg.trainable = False\n",
        "  \n",
        "  outputs = [vgg.get_layer(name).output for name in layer_names]\n",
        "\n",
        "  model = tf.keras.Model([vgg.input], outputs)\n",
        "  return model\n",
        "image = tf.Variable(content_image)\n",
        "vgg_layers(style_layers,image.shape)\n"
      ]
    },
    {
      "cell_type": "code",
      "execution_count": null,
      "metadata": {
        "id": "HAy1iGPdoEpZ"
      },
      "outputs": [],
      "source": [
        "def gram_matrix(input_tensor):\n",
        "  result = tf.linalg.einsum('bijc,bijd->bcd', input_tensor, input_tensor)\n",
        "  input_shape = tf.shape(input_tensor)\n",
        "  num_locations = tf.cast(input_shape[1]*input_shape[2], tf.float32)\n",
        "  return result/(num_locations)"
      ]
    },
    {
      "cell_type": "code",
      "execution_count": null,
      "metadata": {
        "id": "Sr6QALY-I1ja"
      },
      "outputs": [],
      "source": [
        "class StyleContentModel(tf.keras.models.Model):\n",
        "  def __init__(self, style_layers, content_layers,shape):\n",
        "    super(StyleContentModel, self).__init__()\n",
        "    self.vgg = vgg_layers(style_layers + content_layers,shape)\n",
        "    self.style_layers = style_layers\n",
        "    self.content_layers = content_layers\n",
        "    self.num_style_layers = len(style_layers)\n",
        "    self.vgg.trainable = False\n",
        "\n",
        "  def call(self, inputs):\n",
        "    \"Expects float input in [0,1]\"\n",
        "    inputs = inputs*255.0\n",
        "    preprocessed_input = tf.keras.applications.vgg19.preprocess_input(inputs)\n",
        "    outputs = self.vgg(preprocessed_input)\n",
        "    style_outputs, content_outputs = (outputs[:self.num_style_layers],\n",
        "                                      outputs[self.num_style_layers:])\n",
        "\n",
        "    style_outputs = [gram_matrix(style_output)\n",
        "                     for style_output in style_outputs]\n",
        "\n",
        "    content_dict = {content_name: value\n",
        "                    for content_name, value\n",
        "                    in zip(self.content_layers, content_outputs)}\n",
        "\n",
        "    style_dict = {style_name: value\n",
        "                  for style_name, value\n",
        "                  in zip(self.style_layers, style_outputs)}\n",
        "\n",
        "    return {'content': content_dict, 'style': style_dict}"
      ]
    },
    {
      "cell_type": "code",
      "execution_count": null,
      "metadata": {
        "id": "PgkNOnGUFcKa"
      },
      "outputs": [],
      "source": [
        "image = tf.Variable(content_image)\n",
        "# image = tf.Variable(np.random.randn(1,content_image.shape[1],content_image.shape[2],content_image.shape[3],),dtype=tf.float32)\n",
        "extractor = StyleContentModel(style_layers, content_layers,image.shape)\n",
        "style_targets = extractor(style_image)['style']\n",
        "content_targets = extractor(content_image)['content']\n",
        "def clip_0_1(image):\n",
        "  return tf.clip_by_value(image, clip_value_min=0.0, clip_value_max=1.0)\n",
        "lr_schedule = tf.keras.optimizers.schedules.ExponentialDecay(\n",
        "    0.1,\n",
        "    decay_steps=100,\n",
        "    decay_rate=0.8,\n",
        "    staircase=True)\n",
        "opt = tf.keras.optimizers.Adam(learning_rate=lr_schedule, beta_1=0.99, epsilon=1e-1)\n",
        "style_weight=1e-1\n",
        "content_weight=1e4\n",
        "total_variation_weight=20"
      ]
    },
    {
      "cell_type": "code",
      "execution_count": null,
      "metadata": {
        "id": "0ggx2Na8oROH"
      },
      "outputs": [],
      "source": [
        "def style_content_loss(outputs):\n",
        "    style_outputs = outputs['style']\n",
        "    content_outputs = outputs['content']\n",
        "    style_loss = tf.add_n([tf.reduce_mean((style_outputs[name]-style_targets[name])**2) \n",
        "                           for name in style_outputs.keys()])\n",
        "    style_loss *= style_weight / num_style_layers\n",
        "\n",
        "    content_loss = tf.add_n([tf.reduce_mean((content_outputs[name]-content_targets[name])**2) \n",
        "                             for name in content_outputs.keys()])\n",
        "    content_loss *= content_weight / num_content_layers\n",
        "    loss =  content_loss+style_loss\n",
        "    return loss"
      ]
    },
    {
      "cell_type": "code",
      "execution_count": null,
      "metadata": {
        "id": "BzmfcyyYUyWq"
      },
      "outputs": [],
      "source": [
        "@tf.function()\n",
        "def train_step(image):\n",
        "  with tf.GradientTape() as tape:\n",
        "    outputs = extractor(image)\n",
        "    loss = style_content_loss(outputs)\n",
        "    loss += total_variation_weight*tf.image.total_variation(image)\n",
        "\n",
        "  grad = tape.gradient(loss, image)\n",
        "  opt.apply_gradients([(grad, image)])\n",
        "  image.assign(clip_0_1(image))\n",
        "  return loss"
      ]
    },
    {
      "cell_type": "code",
      "execution_count": null,
      "metadata": {
        "id": "q3Cc3bLtoOWy"
      },
      "outputs": [],
      "source": [
        "import time\n",
        "import IPython.display as display\n",
        "start = time.time()\n",
        "\n",
        "epochs = 50\n",
        "steps_per_epoch = 100\n",
        "lossarr=[]\n",
        "tdiffarr=[]\n",
        "step = 0\n",
        "for n in range(epochs):\n",
        "  for m in range(steps_per_epoch):\n",
        "    step += 1\n",
        "    l=train_step(image)\n",
        "    lossarr.append(l)\n",
        "    print(\".\", end='', flush=True)\n",
        "    tdif=tf.reduce_sum(lossarr[-20:-1]-lossarr[-1])/20\n",
        "    tdiffff=tf.reduce_sum(lossarr[-50:-1]-lossarr[-1])\n",
        "    tdiffarr.append(tdif)\n",
        "  display.clear_output(wait=True)\n",
        "  display.display(tensor_to_image(image))\n",
        "  \n",
        "  if(tdif<0):\n",
        "    print(\"EARLY STOPPING\")\n",
        "    break\n",
        "  # elif(tdiffff/tdif<1)\n",
        "  print(tdif/tdiffff)\n",
        "  print(\"Train step: {}\".format(step))\n",
        "\n",
        "end = time.time()\n",
        "print(\"Total time: {:.1f}\".format(end-start))"
      ]
    },
    {
      "cell_type": "code",
      "execution_count": null,
      "metadata": {},
      "outputs": [],
      "source": [
        "plt.plot(lossarr)\n"
      ]
    }
  ],
  "metadata": {
    "accelerator": "GPU",
    "colab": {
      "collapsed_sections": [],
      "name": "style_transfer.ipynb",
      "provenance": [],
      "toc_visible": true
    },
    "kernelspec": {
      "display_name": "Python 3.9.12 ('tf')",
      "language": "python",
      "name": "python3"
    },
    "language_info": {
      "codemirror_mode": {
        "name": "ipython",
        "version": 3
      },
      "file_extension": ".py",
      "mimetype": "text/x-python",
      "name": "python",
      "nbconvert_exporter": "python",
      "pygments_lexer": "ipython3",
      "version": "3.9.12"
    },
    "vscode": {
      "interpreter": {
        "hash": "6344a1b31fbb681a855951a4bc6bf307c45adcd20718228fc45828450ee1f495"
      }
    }
  },
  "nbformat": 4,
  "nbformat_minor": 0
}
